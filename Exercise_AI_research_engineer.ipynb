{
 "cells": [
  {
   "cell_type": "markdown",
   "id": "26353f4c",
   "metadata": {},
   "source": [
    "# Task"
   ]
  },
  {
   "cell_type": "markdown",
   "id": "bbb78ed4",
   "metadata": {},
   "source": [
    "This exercise can be made using the language and framework of your choice\n",
    "\n",
    "English\n",
    "\n",
    "Estimated time : 1h30\n",
    "1) Get MNIST dataset and split it in train / test\n",
    "\n",
    "2) Create a simple convolutive autoencoder (CAE), and also a CNN (create the model from scratch, don’t use an already made model)\n",
    "\n",
    "3) Train both models\n",
    "\n",
    "4) Build a pipeline using the CAE, where you pick the intermediate embedding and add noise to it before reconstructing the input. Create a function for this, taking an image (or a batch of images) and a noise parameter and returning the reconstructed image.\n",
    "\n",
    "5) For each image, test 10 perturbations using the previous pipeline (use about 10 % noise). Then show images that were having the highest variation (you must find a consistent way to estimate this variation).\n"
   ]
  },
  {
   "cell_type": "markdown",
   "id": "87cbb040",
   "metadata": {},
   "source": [
    "## Importing required libraries"
   ]
  },
  {
   "cell_type": "code",
   "execution_count": 5,
   "id": "06b7073b",
   "metadata": {},
   "outputs": [],
   "source": [
    "import numpy as np\n",
    "import tensorflow as tf\n",
    "\n",
    "import matplotlib.pyplot as plt \n",
    "\n",
    "from keras.models import Model, load_model\n",
    "from keras.datasets import mnist\n",
    "from keras.utils import np_utils \n",
    "from keras.models import Sequential\n",
    "from keras.optimizers import RMSprop\n",
    "from keras.callbacks import ModelCheckpoint, EarlyStopping \n",
    "from keras.layers import Conv2D, Input, Conv2DTranspose, MaxPooling2D, Flatten, Dense, Dropout, UpSampling2D, BatchNormalization"
   ]
  },
  {
   "cell_type": "markdown",
   "id": "f61bdfbb",
   "metadata": {},
   "source": [
    "## 1) Get MNIST dataset and split it in train / test "
   ]
  },
  {
   "cell_type": "code",
   "execution_count": 6,
   "id": "014476dd",
   "metadata": {},
   "outputs": [
    {
     "name": "stdout",
     "output_type": "stream",
     "text": [
      "The training set has 50000 images.\n",
      "The validation set has 10000 images.\n",
      "The testing set has 10000 images.\n"
     ]
    }
   ],
   "source": [
    "# use Keras to import pre-shuffled MNIST database \n",
    "(X_train, y_train), (X_test, y_test) = mnist.load_data() \n",
    "\n",
    "# Split the training set into training and validation set\n",
    "(X_valid, y_valid) = X_train[50000:], y_train[50000:]\n",
    "(X_train, y_train) = X_train[:50000], y_train[:50000]\n",
    "    \n",
    "print(\"The training set has %d images.\" % len(X_train))\n",
    "print(\"The validation set has %d images.\" % len(X_valid))\n",
    "print(\"The testing set has %d images.\" % len(X_test))"
   ]
  },
  {
   "cell_type": "markdown",
   "id": "2e2516b0",
   "metadata": {},
   "source": [
    "### 1.1) Preprocess input images: \n",
    "Rescale and Normalize the images by dividing every pixel in every image by 255, also add chanel to image equals to 1 "
   ]
  },
  {
   "cell_type": "code",
   "execution_count": 7,
   "id": "80203d1f",
   "metadata": {},
   "outputs": [],
   "source": [
    "def preprocess(array):\n",
    "    \"\"\"\n",
    "    Normalize and reshape the input array\n",
    "    \"\"\"\n",
    "    \n",
    "    # rescale to have values within 0 - 1 range [0,255] --> [0,1] \n",
    "    array = array.astype('float32') / 255.0\n",
    "    # reshape the image to add channel equals to 1 \n",
    "    array = np.reshape(array, (len(array), 28, 28, 1))\n",
    "    \n",
    "    return array"
   ]
  },
  {
   "cell_type": "code",
   "execution_count": 8,
   "id": "3e0d2069",
   "metadata": {},
   "outputs": [
    {
     "name": "stdout",
     "output_type": "stream",
     "text": [
      "X_train shape: (50000, 28, 28, 1)\n",
      "50000 train samples\n",
      "10000 valid samples\n",
      "10000 test samples\n"
     ]
    }
   ],
   "source": [
    "# rescale to have values within 0 - 1 range [0,255] --> [0,1] \n",
    "X_train = preprocess(X_train) \n",
    "X_valid = preprocess(X_valid)  \n",
    "X_test = preprocess(X_test) \n",
    "\n",
    "print('X_train shape:', X_train.shape) \n",
    "print(X_train.shape[0], 'train samples') \n",
    "print(X_valid.shape[0], 'valid samples') \n",
    "print(X_test.shape[0], 'test samples' ) "
   ]
  },
  {
   "cell_type": "markdown",
   "id": "9917367d",
   "metadata": {},
   "source": [
    "### 1.2) Preprocess the labels: \n",
    "Encode Categorical Integer Labels Using a One-Hot encoder"
   ]
  },
  {
   "cell_type": "code",
   "execution_count": 9,
   "id": "7c90037d",
   "metadata": {},
   "outputs": [
    {
     "name": "stdout",
     "output_type": "stream",
     "text": [
      "Integer-valued labels:\n",
      "[5 0 4 1 9 2 1 3 1 4]\n",
      "One-hot labels:\n",
      "[[0. 0. 0. 0. 0. 1. 0. 0. 0. 0.]\n",
      " [1. 0. 0. 0. 0. 0. 0. 0. 0. 0.]\n",
      " [0. 0. 0. 0. 1. 0. 0. 0. 0. 0.]\n",
      " [0. 1. 0. 0. 0. 0. 0. 0. 0. 0.]\n",
      " [0. 0. 0. 0. 0. 0. 0. 0. 0. 1.]\n",
      " [0. 0. 1. 0. 0. 0. 0. 0. 0. 0.]\n",
      " [0. 1. 0. 0. 0. 0. 0. 0. 0. 0.]\n",
      " [0. 0. 0. 1. 0. 0. 0. 0. 0. 0.]\n",
      " [0. 1. 0. 0. 0. 0. 0. 0. 0. 0.]\n",
      " [0. 0. 0. 0. 1. 0. 0. 0. 0. 0.]]\n"
     ]
    }
   ],
   "source": [
    "num_classes = 10  \n",
    "# print first ten (integer-valued) training labels \n",
    "print('Integer-valued labels:') \n",
    "print(y_train[:10]) \n",
    "\n",
    "# one-hot encode the labels \n",
    "# convert class vectors to binary class matrices \n",
    "y_train = np_utils.to_categorical(y_train, num_classes)\n",
    "y_valid = np_utils.to_categorical(y_valid, num_classes)\n",
    "y_test = np_utils.to_categorical(y_test, num_classes) \n",
    "\n",
    "# print first ten (one-hot) training labels \n",
    "print('One-hot labels:') \n",
    "print(y_train[:10]) "
   ]
  },
  {
   "cell_type": "markdown",
   "id": "5fb5e196",
   "metadata": {},
   "source": [
    "## 2) Create CAE and CNN models"
   ]
  },
  {
   "cell_type": "markdown",
   "id": "debb2450",
   "metadata": {},
   "source": [
    "### 2.1) Convolutional Neural Network\n",
    "#### 2.1.1) Define CNN Model Architecture "
   ]
  },
  {
   "cell_type": "code",
   "execution_count": 30,
   "id": "e0301797",
   "metadata": {},
   "outputs": [
    {
     "name": "stdout",
     "output_type": "stream",
     "text": [
      "Model: \"sequential_3\"\n",
      "_________________________________________________________________\n",
      "Layer (type)                 Output Shape              Param #   \n",
      "=================================================================\n",
      "conv2d_13 (Conv2D)           (None, 28, 28, 32)        832       \n",
      "_________________________________________________________________\n",
      "conv2d_14 (Conv2D)           (None, 28, 28, 32)        25632     \n",
      "_________________________________________________________________\n",
      "max_pooling2d_7 (MaxPooling2 (None, 14, 14, 32)        0         \n",
      "_________________________________________________________________\n",
      "dropout_3 (Dropout)          (None, 14, 14, 32)        0         \n",
      "_________________________________________________________________\n",
      "conv2d_15 (Conv2D)           (None, 14, 14, 64)        18496     \n",
      "_________________________________________________________________\n",
      "conv2d_16 (Conv2D)           (None, 14, 14, 64)        36928     \n",
      "_________________________________________________________________\n",
      "max_pooling2d_8 (MaxPooling2 (None, 7, 7, 64)          0         \n",
      "_________________________________________________________________\n",
      "dropout_4 (Dropout)          (None, 7, 7, 64)          0         \n",
      "_________________________________________________________________\n",
      "flatten_2 (Flatten)          (None, 3136)              0         \n",
      "_________________________________________________________________\n",
      "dense_4 (Dense)              (None, 256)               803072    \n",
      "_________________________________________________________________\n",
      "dropout_5 (Dropout)          (None, 256)               0         \n",
      "_________________________________________________________________\n",
      "dense_5 (Dense)              (None, 10)                2570      \n",
      "=================================================================\n",
      "Total params: 887,530\n",
      "Trainable params: 887,530\n",
      "Non-trainable params: 0\n",
      "_________________________________________________________________\n"
     ]
    }
   ],
   "source": [
    "# # build the model object\n",
    "# model = Sequential()\n",
    "\n",
    "# # CONV_1: add CONV layer with RELU activation and depth = 32 kernels\n",
    "# model.add(Conv2D(32, kernel_size=(5, 5), padding='same',activation='relu',input_shape=(28,28,1)))\n",
    "# # CONV_2: add CONV layer with RELU activation and depth = 32 kernels\n",
    "# model.add(Conv2D(32, kernel_size=(5, 5), padding='same',activation='relu',input_shape=(28,28,1)))\n",
    "# # POOL_1: downsample the image to choose the best features \n",
    "# model.add(MaxPooling2D(pool_size=(2, 2)))\n",
    "# model.add(Dropout(0.25))\n",
    "\n",
    "# # CONV_3: here we increase the depth to 64\n",
    "# model.add(Conv2D(64, (3, 3),padding='same', activation='relu'))\n",
    "# # CONV_4: here we increase the depth to 64\n",
    "# model.add(Conv2D(64, (3, 3),padding='same', activation='relu'))\n",
    "# # POOL_2: more downsampling\n",
    "# model.add(MaxPooling2D(pool_size=(2, 2), strides=(2, 2)))\n",
    "# model.add(Dropout(0.25))\n",
    "\n",
    "# # flatten since too many dimensions, we only want a classification output\n",
    "# model.add(Flatten())\n",
    "\n",
    "# # FC_1: fully connected to get all relevant data\n",
    "# model.add(Dense(256, activation='relu'))\n",
    "# model.add(Dropout(0.5))\n",
    "\n",
    "# # FC_2: output a softmax to squash the matrix into output probabilities for the 10 classes\n",
    "# model.add(Dense(10, activation='softmax'))\n",
    "\n",
    "# model.summary()"
   ]
  },
  {
   "cell_type": "code",
   "execution_count": 84,
   "id": "d9fadbf5",
   "metadata": {},
   "outputs": [
    {
     "name": "stdout",
     "output_type": "stream",
     "text": [
      "Model: \"sequential_12\"\n",
      "_________________________________________________________________\n",
      "Layer (type)                 Output Shape              Param #   \n",
      "=================================================================\n",
      "conv2d_39 (Conv2D)           (None, 28, 28, 32)        320       \n",
      "_________________________________________________________________\n",
      "max_pooling2d_26 (MaxPooling (None, 14, 14, 32)        0         \n",
      "_________________________________________________________________\n",
      "conv2d_40 (Conv2D)           (None, 14, 14, 64)        18496     \n",
      "_________________________________________________________________\n",
      "max_pooling2d_27 (MaxPooling (None, 7, 7, 64)          0         \n",
      "_________________________________________________________________\n",
      "flatten_4 (Flatten)          (None, 3136)              0         \n",
      "_________________________________________________________________\n",
      "dense_8 (Dense)              (None, 64)                200768    \n",
      "_________________________________________________________________\n",
      "dense_9 (Dense)              (None, 10)                650       \n",
      "=================================================================\n",
      "Total params: 220,234\n",
      "Trainable params: 220,234\n",
      "Non-trainable params: 0\n",
      "_________________________________________________________________\n"
     ]
    }
   ],
   "source": [
    "# build the model object\n",
    "model = Sequential()\n",
    "\n",
    "# CONV_1: add CONV layer with RELU activation and depth = 32 kernels\n",
    "model.add(Conv2D(32, kernel_size=(3, 3), padding='same',activation='relu',input_shape=(28,28,1)))\n",
    "# POOL_1: downsample the image to choose the best features \n",
    "model.add(MaxPooling2D(pool_size=(2, 2)))\n",
    "\n",
    "# CONV_2: here we increase the depth to 64\n",
    "model.add(Conv2D(64, (3, 3),padding='same', activation='relu'))\n",
    "# POOL_2: more downsampling\n",
    "model.add(MaxPooling2D(pool_size=(2, 2)))\n",
    "\n",
    "# flatten since too many dimensions, we only want a classification output\n",
    "model.add(Flatten())\n",
    "\n",
    "# FC_1: fully connected to get all relevant data\n",
    "model.add(Dense(64, activation='relu'))\n",
    "\n",
    "# FC_2: output a softmax to squash the matrix into output probabilities for the 10 classes\n",
    "model.add(Dense(10, activation='softmax'))\n",
    "\n",
    "model.summary()"
   ]
  },
  {
   "cell_type": "markdown",
   "id": "33e6e3c0",
   "metadata": {},
   "source": [
    "### 2.2) Convolutional Autoencoder"
   ]
  },
  {
   "cell_type": "code",
   "execution_count": 85,
   "id": "c0f3a4f5",
   "metadata": {},
   "outputs": [],
   "source": [
    "input = Input(shape=(28, 28, 1))\n",
    "\n",
    "############\n",
    "# Encoding #\n",
    "############\n",
    "\n",
    "# CONV_1: add CONV layer with RELU activation and depth = 32 kernels\n",
    "x = Conv2D(filters = 32, kernel_size = (3, 3), activation='relu', padding='same', input_shape=(28,28,1))(input)\n",
    "# POOL_1: downsample the image to choose the best features \n",
    "x = MaxPooling2D(pool_size = (2, 2), padding='same')(x)\n",
    "\n",
    "# CONV_2: add CONV layer with RELU activation and depth = 32 kernels\n",
    "x = Conv2D(filters = 32, kernel_size = (3, 3), activation='relu', padding='same')(x)\n",
    "# POOL_2: downsample the image to choose the best features \n",
    "x = MaxPooling2D(pool_size = (2, 2), padding='same')(x)\n",
    "\n",
    "\n",
    "############\n",
    "# Decoding #\n",
    "############\n",
    "\n",
    "# DECONV_1: add DECONV layer with RELU activation and depth = 32 kernels\n",
    "x = Conv2DTranspose(32, (3, 3), strides=2, activation='relu', padding='same')(x)\n",
    "\n",
    "# DECONV_2: add DECONV layer with RELU activation and depth = 32 kernels\n",
    "x = Conv2DTranspose(32, (3, 3), strides=2, activation='relu', padding='same')(x)\n",
    "\n",
    "# DECONV_3: add DECONV layer with RELU activation and depth = 16 kernels\n",
    "x = Conv2D(1, (3, 3), activation='sigmoid', padding='same')(x)"
   ]
  },
  {
   "cell_type": "code",
   "execution_count": null,
   "id": "93d81092",
   "metadata": {},
   "outputs": [],
   "source": []
  },
  {
   "cell_type": "code",
   "execution_count": 48,
   "id": "823a3d39",
   "metadata": {},
   "outputs": [],
   "source": [
    "# input = Input(shape=(28, 28, 1))\n",
    "\n",
    "# ############\n",
    "# # Encoding #\n",
    "# ############\n",
    "\n",
    "# # CONV_1: add CONV layer with RELU activation and depth = 16 kernels\n",
    "# x = Conv2D(filters = 16, kernel_size = (3, 3), activation='relu', padding='same', input_shape=(28,28,1))(input)\n",
    "# # POOL_1: downsample the image to choose the best features \n",
    "# x = MaxPooling2D(pool_size = (2, 2), padding='same')(x)\n",
    "\n",
    "# # CONV_2: add CONV layer with RELU activation and depth = 8 kernels\n",
    "# x = Conv2D(filters = 8, kernel_size = (3, 3), activation='relu', padding='same')(x)\n",
    "# # POOL_2: downsample the image to choose the best features \n",
    "# x = MaxPooling2D(pool_size = (2, 2), padding='same')(x)\n",
    "\n",
    "# # CONV_3: add CONV layer with RELU activation and depth = 8 kernels\n",
    "# x = Conv2D(filters = 8, kernel_size = (3, 3), activation='relu', padding='same')(x)\n",
    "# # POOL_3: downsample the image to choose the best features \n",
    "# x = MaxPooling2D(pool_size = (2, 2), padding='same')(x)\n",
    "\n",
    "# ############\n",
    "# # Decoding #\n",
    "# ############\n",
    "\n",
    "# # DECONV_1: add DECONV layer with RELU activation and depth = 8 kernels\n",
    "# x = Conv2D(8, (3, 3), activation='relu', padding='same')(x)\n",
    "# # UPSAMPLE_1: Upsample the image \n",
    "# x = UpSampling2D((2, 2))(x)\n",
    "\n",
    "# # DECONV_2: add DECONV layer with RELU activation and depth = 8 kernels\n",
    "# x = Conv2D(8, (3, 3), activation='relu', padding='same')(x)\n",
    "# # UPSAMPLE_2: Upsample the image \n",
    "# x = UpSampling2D((2, 2))(x)\n",
    "\n",
    "# # DECONV_3: add DECONV layer with RELU activation and depth = 16 kernels\n",
    "# x = Conv2D(16, (3, 3), activation='relu')(x)\n",
    "# # UPSAMPLE_3: Upsample the image \n",
    "# x = UpSampling2D((2, 2))(x)\n",
    "\n",
    "# # DECONV_3: add DECONV layer with RELU activation and depth = 16 kernels\n",
    "# x = Conv2D(1, (3, 3), activation='sigmoid', padding='same')(x)"
   ]
  },
  {
   "cell_type": "markdown",
   "id": "ae8c87d5",
   "metadata": {},
   "source": [
    "## 3) Train the models"
   ]
  },
  {
   "cell_type": "markdown",
   "id": "a5160e4c",
   "metadata": {},
   "source": [
    "### 3.1) Train the CNN model"
   ]
  },
  {
   "cell_type": "markdown",
   "id": "ceab9656",
   "metadata": {},
   "source": [
    "#### 3.1.1) Compile the CNN model\n",
    "Using  RMSprop we deal with the gradient vanishing problem.  RMSprop uses an adaptive learning rate instead of treating the learning rate as a hyperparameter. This means that the learning rate changes over time."
   ]
  },
  {
   "cell_type": "code",
   "execution_count": 44,
   "id": "a9bd1f94",
   "metadata": {},
   "outputs": [],
   "source": [
    "# Define the optimizer\n",
    "optimizer = RMSprop(lr=0.001)\n",
    "\n",
    "model.compile(loss='categorical_crossentropy', optimizer=optimizer, \n",
    "              metrics=['accuracy'])"
   ]
  },
  {
   "cell_type": "markdown",
   "id": "e86df4ea",
   "metadata": {},
   "source": [
    "#### 3.1.2) Train the CNN model "
   ]
  },
  {
   "cell_type": "code",
   "execution_count": 45,
   "id": "d05b9c6c",
   "metadata": {},
   "outputs": [
    {
     "name": "stdout",
     "output_type": "stream",
     "text": [
      "Epoch 1/12\n",
      "\n",
      "Epoch 00001: val_loss improved from inf to 0.44245, saving model to model.weights.best.hdf5\n",
      "1563/1563 - 39s - loss: 1.4857 - accuracy: 0.4951 - val_loss: 0.4424 - val_accuracy: 0.8673\n",
      "Epoch 2/12\n",
      "\n",
      "Epoch 00002: val_loss improved from 0.44245 to 0.23309, saving model to model.weights.best.hdf5\n",
      "1563/1563 - 38s - loss: 0.3571 - accuracy: 0.8920 - val_loss: 0.2331 - val_accuracy: 0.9323\n",
      "Epoch 3/12\n",
      "\n",
      "Epoch 00003: val_loss improved from 0.23309 to 0.14307, saving model to model.weights.best.hdf5\n",
      "1563/1563 - 38s - loss: 0.2101 - accuracy: 0.9373 - val_loss: 0.1431 - val_accuracy: 0.9604\n",
      "Epoch 4/12\n",
      "\n",
      "Epoch 00004: val_loss improved from 0.14307 to 0.11935, saving model to model.weights.best.hdf5\n",
      "1563/1563 - 39s - loss: 0.1402 - accuracy: 0.9572 - val_loss: 0.1193 - val_accuracy: 0.9661\n",
      "Epoch 5/12\n",
      "\n",
      "Epoch 00005: val_loss improved from 0.11935 to 0.11301, saving model to model.weights.best.hdf5\n",
      "1563/1563 - 37s - loss: 0.1087 - accuracy: 0.9673 - val_loss: 0.1130 - val_accuracy: 0.9678\n",
      "Epoch 6/12\n",
      "\n",
      "Epoch 00006: val_loss improved from 0.11301 to 0.08799, saving model to model.weights.best.hdf5\n",
      "1563/1563 - 37s - loss: 0.0933 - accuracy: 0.9717 - val_loss: 0.0880 - val_accuracy: 0.9747\n",
      "Epoch 7/12\n",
      "\n",
      "Epoch 00007: val_loss improved from 0.08799 to 0.08453, saving model to model.weights.best.hdf5\n",
      "1563/1563 - 38s - loss: 0.0817 - accuracy: 0.9752 - val_loss: 0.0845 - val_accuracy: 0.9768\n",
      "Epoch 8/12\n",
      "\n",
      "Epoch 00008: val_loss improved from 0.08453 to 0.08096, saving model to model.weights.best.hdf5\n",
      "1563/1563 - 37s - loss: 0.0743 - accuracy: 0.9775 - val_loss: 0.0810 - val_accuracy: 0.9766\n",
      "Epoch 9/12\n",
      "\n",
      "Epoch 00009: val_loss improved from 0.08096 to 0.07346, saving model to model.weights.best.hdf5\n",
      "1563/1563 - 38s - loss: 0.0675 - accuracy: 0.9794 - val_loss: 0.0735 - val_accuracy: 0.9787\n",
      "Epoch 10/12\n",
      "\n",
      "Epoch 00010: val_loss did not improve from 0.07346\n",
      "1563/1563 - 37s - loss: 0.0618 - accuracy: 0.9807 - val_loss: 0.0770 - val_accuracy: 0.9792\n",
      "Epoch 11/12\n",
      "\n",
      "Epoch 00011: val_loss improved from 0.07346 to 0.07181, saving model to model.weights.best.hdf5\n",
      "1563/1563 - 38s - loss: 0.0577 - accuracy: 0.9826 - val_loss: 0.0718 - val_accuracy: 0.9806\n",
      "Epoch 12/12\n",
      "\n",
      "Epoch 00012: val_loss improved from 0.07181 to 0.06346, saving model to model.weights.best.hdf5\n",
      "1563/1563 - 39s - loss: 0.0544 - accuracy: 0.9836 - val_loss: 0.0635 - val_accuracy: 0.9818\n"
     ]
    }
   ],
   "source": [
    "checkpointer = ModelCheckpoint(filepath='model.weights.best.hdf5', verbose=1, \n",
    "                               save_best_only=True)\n",
    "hist = model.fit(X_train, y_train, batch_size=32, epochs=12,\n",
    "          validation_data=(X_valid, y_valid), callbacks=[checkpointer], \n",
    "          verbose=2, shuffle=True)"
   ]
  },
  {
   "cell_type": "markdown",
   "id": "b6dc298d",
   "metadata": {},
   "source": [
    "#### 3.1.3) Plot the learning curves of model accuracy"
   ]
  },
  {
   "cell_type": "code",
   "execution_count": 46,
   "id": "a89d1541",
   "metadata": {},
   "outputs": [
    {
     "data": {
      "image/png": "[encoded data removed]",
      "text/plain": [
       "<Figure size 432x288 with 1 Axes>"
      ]
     },
     "metadata": {
      "needs_background": "light"
     },
     "output_type": "display_data"
    }
   ],
   "source": [
    "plt.plot(hist.history['accuracy'], label='train')\n",
    "plt.plot(hist.history['val_accuracy'], label='valid')\n",
    "plt.legend()\n",
    "plt.show()"
   ]
  },
  {
   "cell_type": "markdown",
   "id": "3cc566f9",
   "metadata": {},
   "source": [
    "#### 3.1.4) Calculate the Classification Accuracy on the Test Set"
   ]
  },
  {
   "cell_type": "code",
   "execution_count": 47,
   "id": "a41b4ffb",
   "metadata": {},
   "outputs": [
    {
     "name": "stdout",
     "output_type": "stream",
     "text": [
      "Test accuracy: 98.2300%\n"
     ]
    }
   ],
   "source": [
    "# evaluate test accuracy\n",
    "score = model.evaluate(X_test, y_test, verbose=0)\n",
    "accuracy = 100*score[1]\n",
    "\n",
    "# print test accuracy\n",
    "print('Test accuracy: %.4f%%' % accuracy)"
   ]
  },
  {
   "cell_type": "markdown",
   "id": "bbc15bba",
   "metadata": {},
   "source": [
    "### 3.2) Train the CAE model\n",
    "#### 3.2.1) Compile the CAE model\n"
   ]
  },
  {
   "cell_type": "code",
   "execution_count": 86,
   "id": "e036a060",
   "metadata": {},
   "outputs": [
    {
     "name": "stdout",
     "output_type": "stream",
     "text": [
      "Model: \"functional_1\"\n",
      "_________________________________________________________________\n",
      "Layer (type)                 Output Shape              Param #   \n",
      "=================================================================\n",
      "input_1 (InputLayer)         [(None, 28, 28, 1)]       0         \n",
      "_________________________________________________________________\n",
      "conv2d_41 (Conv2D)           (None, 28, 28, 32)        320       \n",
      "_________________________________________________________________\n",
      "max_pooling2d_28 (MaxPooling (None, 14, 14, 32)        0         \n",
      "_________________________________________________________________\n",
      "conv2d_42 (Conv2D)           (None, 14, 14, 32)        9248      \n",
      "_________________________________________________________________\n",
      "max_pooling2d_29 (MaxPooling (None, 7, 7, 32)          0         \n",
      "_________________________________________________________________\n",
      "conv2d_transpose_12 (Conv2DT (None, 14, 14, 32)        9248      \n",
      "_________________________________________________________________\n",
      "conv2d_transpose_13 (Conv2DT (None, 28, 28, 32)        9248      \n",
      "_________________________________________________________________\n",
      "conv2d_43 (Conv2D)           (None, 28, 28, 1)         289       \n",
      "=================================================================\n",
      "Total params: 28,353\n",
      "Trainable params: 28,353\n",
      "Non-trainable params: 0\n",
      "_________________________________________________________________\n"
     ]
    }
   ],
   "source": [
    "# build the model object\n",
    "autoencoder = Model(input, x)\n",
    "\n",
    "autoencoder.compile(optimizer='adam', loss='binary_crossentropy')\n",
    "autoencoder.summary()"
   ]
  },
  {
   "cell_type": "markdown",
   "id": "a23ec885",
   "metadata": {},
   "source": [
    "#### 3.2.2) Train the Autoencoder"
   ]
  },
  {
   "cell_type": "code",
   "execution_count": 7,
   "id": "043430ba",
   "metadata": {},
   "outputs": [
    {
     "name": "stdout",
     "output_type": "stream",
     "text": [
      "Training data shape:  (60000, 28, 28, 1)\n",
      "Testing data shape:  (10000, 28, 28, 1)\n"
     ]
    }
   ],
   "source": [
    "# We import the dataset again because we don't need to split the validation set\n",
    "# Furthermore, we don't need the labels so we don't save them in a variable\n",
    "(X_train, _), (X_test, _) = mnist.load_data()\n",
    "X_train = preprocess(X_train)\n",
    "X_test = preprocess(X_test)\n",
    "print('Training data shape: ', X_train.shape)\n",
    "print('Testing data shape: ', X_test.shape)"
   ]
  },
  {
   "cell_type": "code",
   "execution_count": 93,
   "id": "83a0022b",
   "metadata": {},
   "outputs": [
    {
     "name": "stdout",
     "output_type": "stream",
     "text": [
      "Epoch 1/50\n",
      "469/469 [==============================] - ETA: 0s - loss: 0.0662\n",
      "Epoch 00001: val_loss improved from inf to 0.06555, saving model to model.weights.best.hdf5\n",
      "469/469 [==============================] - 86s 183ms/step - loss: 0.0662 - val_loss: 0.0655\n",
      "Epoch 2/50\n",
      "469/469 [==============================] - ETA: 0s - loss: 0.0658\n",
      "Epoch 00002: val_loss improved from 0.06555 to 0.06522, saving model to model.weights.best.hdf5\n",
      "469/469 [==============================] - 89s 191ms/step - loss: 0.0658 - val_loss: 0.0652\n",
      "Epoch 3/50\n",
      "469/469 [==============================] - ETA: 0s - loss: 0.0655\n",
      "Epoch 00003: val_loss improved from 0.06522 to 0.06503, saving model to model.weights.best.hdf5\n",
      "469/469 [==============================] - 92s 197ms/step - loss: 0.0655 - val_loss: 0.0650\n",
      "Epoch 4/50\n",
      "469/469 [==============================] - ETA: 0s - loss: 0.0652\n",
      "Epoch 00004: val_loss improved from 0.06503 to 0.06477, saving model to model.weights.best.hdf5\n",
      "469/469 [==============================] - 93s 199ms/step - loss: 0.0652 - val_loss: 0.0648\n",
      "Epoch 5/50\n",
      "469/469 [==============================] - ETA: 0s - loss: 0.0650\n",
      "Epoch 00005: val_loss improved from 0.06477 to 0.06454, saving model to model.weights.best.hdf5\n",
      "469/469 [==============================] - 95s 203ms/step - loss: 0.0650 - val_loss: 0.0645\n",
      "Epoch 6/50\n",
      "469/469 [==============================] - ETA: 0s - loss: 0.0647\n",
      "Epoch 00006: val_loss improved from 0.06454 to 0.06423, saving model to model.weights.best.hdf5\n",
      "469/469 [==============================] - 97s 206ms/step - loss: 0.0647 - val_loss: 0.0642\n",
      "Epoch 7/50\n",
      "469/469 [==============================] - ETA: 0s - loss: 0.0645\n",
      "Epoch 00007: val_loss improved from 0.06423 to 0.06408, saving model to model.weights.best.hdf5\n",
      "469/469 [==============================] - 88s 188ms/step - loss: 0.0645 - val_loss: 0.0641\n",
      "Epoch 8/50\n",
      "469/469 [==============================] - ETA: 0s - loss: 0.0644\n",
      "Epoch 00008: val_loss improved from 0.06408 to 0.06390, saving model to model.weights.best.hdf5\n",
      "469/469 [==============================] - 86s 183ms/step - loss: 0.0644 - val_loss: 0.0639\n",
      "Epoch 9/50\n",
      "469/469 [==============================] - ETA: 0s - loss: 0.0642\n",
      "Epoch 00009: val_loss improved from 0.06390 to 0.06385, saving model to model.weights.best.hdf5\n",
      "469/469 [==============================] - 88s 187ms/step - loss: 0.0642 - val_loss: 0.0638\n",
      "Epoch 10/50\n",
      "469/469 [==============================] - ETA: 0s - loss: 0.0641\n",
      "Epoch 00010: val_loss improved from 0.06385 to 0.06376, saving model to model.weights.best.hdf5\n",
      "469/469 [==============================] - 87s 186ms/step - loss: 0.0641 - val_loss: 0.0638\n",
      "Epoch 11/50\n",
      "469/469 [==============================] - ETA: 0s - loss: 0.0639\n",
      "Epoch 00011: val_loss improved from 0.06376 to 0.06352, saving model to model.weights.best.hdf5\n",
      "469/469 [==============================] - 87s 186ms/step - loss: 0.0639 - val_loss: 0.0635\n",
      "Epoch 12/50\n",
      "469/469 [==============================] - ETA: 0s - loss: 0.0638\n",
      "Epoch 00012: val_loss improved from 0.06352 to 0.06341, saving model to model.weights.best.hdf5\n",
      "469/469 [==============================] - 89s 189ms/step - loss: 0.0638 - val_loss: 0.0634\n",
      "Epoch 13/50\n",
      "469/469 [==============================] - ETA: 0s - loss: 0.0637\n",
      "Epoch 00013: val_loss improved from 0.06341 to 0.06326, saving model to model.weights.best.hdf5\n",
      "469/469 [==============================] - 88s 188ms/step - loss: 0.0637 - val_loss: 0.0633\n",
      "Epoch 14/50\n",
      "469/469 [==============================] - ETA: 0s - loss: 0.0636\n",
      "Epoch 00014: val_loss improved from 0.06326 to 0.06315, saving model to model.weights.best.hdf5\n",
      "469/469 [==============================] - 88s 188ms/step - loss: 0.0636 - val_loss: 0.0632\n",
      "Epoch 15/50\n",
      "469/469 [==============================] - ETA: 0s - loss: 0.0635\n",
      "Epoch 00015: val_loss improved from 0.06315 to 0.06315, saving model to model.weights.best.hdf5\n",
      "469/469 [==============================] - 90s 192ms/step - loss: 0.0635 - val_loss: 0.0631\n",
      "Epoch 16/50\n",
      "469/469 [==============================] - ETA: 0s - loss: 0.0634\n",
      "Epoch 00016: val_loss improved from 0.06315 to 0.06308, saving model to model.weights.best.hdf5\n",
      "469/469 [==============================] - 89s 189ms/step - loss: 0.0634 - val_loss: 0.0631\n",
      "Epoch 17/50\n",
      "469/469 [==============================] - ETA: 0s - loss: 0.0634\n",
      "Epoch 00017: val_loss improved from 0.06308 to 0.06298, saving model to model.weights.best.hdf5\n",
      "469/469 [==============================] - 93s 199ms/step - loss: 0.0634 - val_loss: 0.0630\n",
      "Epoch 18/50\n",
      "469/469 [==============================] - ETA: 0s - loss: 0.0633\n",
      "Epoch 00018: val_loss improved from 0.06298 to 0.06287, saving model to model.weights.best.hdf5\n",
      "469/469 [==============================] - 87s 185ms/step - loss: 0.0633 - val_loss: 0.0629\n",
      "Epoch 19/50\n",
      "469/469 [==============================] - ETA: 0s - loss: 0.0632\n",
      "Epoch 00019: val_loss did not improve from 0.06287\n",
      "469/469 [==============================] - 92s 196ms/step - loss: 0.0632 - val_loss: 0.0629\n",
      "Epoch 20/50\n",
      "469/469 [==============================] - ETA: 0s - loss: 0.0631\n",
      "Epoch 00020: val_loss improved from 0.06287 to 0.06275, saving model to model.weights.best.hdf5\n",
      "469/469 [==============================] - 93s 198ms/step - loss: 0.0631 - val_loss: 0.0628\n",
      "Epoch 21/50\n",
      "469/469 [==============================] - ETA: 0s - loss: 0.0631\n",
      "Epoch 00021: val_loss improved from 0.06275 to 0.06270, saving model to model.weights.best.hdf5\n",
      "469/469 [==============================] - 90s 192ms/step - loss: 0.0631 - val_loss: 0.0627\n",
      "Epoch 22/50\n",
      "469/469 [==============================] - ETA: 0s - loss: 0.0630\n",
      "Epoch 00022: val_loss improved from 0.06270 to 0.06264, saving model to model.weights.best.hdf5\n",
      "469/469 [==============================] - 88s 188ms/step - loss: 0.0630 - val_loss: 0.0626\n",
      "Epoch 23/50\n",
      "469/469 [==============================] - ETA: 0s - loss: 0.0630\n",
      "Epoch 00023: val_loss improved from 0.06264 to 0.06258, saving model to model.weights.best.hdf5\n",
      "469/469 [==============================] - 92s 196ms/step - loss: 0.0630 - val_loss: 0.0626\n",
      "Epoch 24/50\n",
      "469/469 [==============================] - ETA: 0s - loss: 0.0629\n",
      "Epoch 00024: val_loss improved from 0.06258 to 0.06258, saving model to model.weights.best.hdf5\n",
      "469/469 [==============================] - 90s 192ms/step - loss: 0.0629 - val_loss: 0.0626\n",
      "Epoch 25/50\n",
      "469/469 [==============================] - ETA: 0s - loss: 0.0629\n",
      "Epoch 00025: val_loss improved from 0.06258 to 0.06254, saving model to model.weights.best.hdf5\n",
      "469/469 [==============================] - 87s 186ms/step - loss: 0.0629 - val_loss: 0.0625\n",
      "Epoch 26/50\n",
      "469/469 [==============================] - ETA: 0s - loss: 0.0628\n",
      "Epoch 00026: val_loss did not improve from 0.06254\n",
      "469/469 [==============================] - 96s 205ms/step - loss: 0.0628 - val_loss: 0.0626\n",
      "Epoch 27/50\n",
      "469/469 [==============================] - ETA: 0s - loss: 0.0628\n",
      "Epoch 00027: val_loss improved from 0.06254 to 0.06241, saving model to model.weights.best.hdf5\n",
      "469/469 [==============================] - 97s 207ms/step - loss: 0.0628 - val_loss: 0.0624\n",
      "Epoch 28/50\n",
      "469/469 [==============================] - ETA: 0s - loss: 0.0627\n",
      "Epoch 00028: val_loss did not improve from 0.06241\n",
      "469/469 [==============================] - 93s 197ms/step - loss: 0.0627 - val_loss: 0.0624\n",
      "Epoch 29/50\n",
      "469/469 [==============================] - ETA: 0s - loss: 0.0627- ETA: 3s - los - ETA: 1s - lo\n",
      "Epoch 00029: val_loss improved from 0.06241 to 0.06233, saving model to model.weights.best.hdf5\n",
      "469/469 [==============================] - 92s 196ms/step - loss: 0.0627 - val_loss: 0.0623\n",
      "Epoch 30/50\n",
      "469/469 [==============================] - ETA: 0s - loss: 0.0627\n",
      "Epoch 00030: val_loss improved from 0.06233 to 0.06231, saving model to model.weights.best.hdf5\n",
      "469/469 [==============================] - 92s 196ms/step - loss: 0.0627 - val_loss: 0.0623\n",
      "Epoch 31/50\n",
      "469/469 [==============================] - ETA: 0s - loss: 0.0626\n",
      "Epoch 00031: val_loss did not improve from 0.06231\n",
      "469/469 [==============================] - 92s 196ms/step - loss: 0.0626 - val_loss: 0.0624\n",
      "Epoch 32/50\n",
      "469/469 [==============================] - ETA: 0s - loss: 0.0626\n",
      "Epoch 00032: val_loss improved from 0.06231 to 0.06229, saving model to model.weights.best.hdf5\n",
      "469/469 [==============================] - 94s 200ms/step - loss: 0.0626 - val_loss: 0.0623\n"
     ]
    },
    {
     "name": "stdout",
     "output_type": "stream",
     "text": [
      "Epoch 33/50\n",
      "469/469 [==============================] - ETA: 0s - loss: 0.0626\n",
      "Epoch 00033: val_loss improved from 0.06229 to 0.06221, saving model to model.weights.best.hdf5\n",
      "469/469 [==============================] - 91s 194ms/step - loss: 0.0626 - val_loss: 0.0622\n",
      "Epoch 34/50\n",
      "469/469 [==============================] - ETA: 0s - loss: 0.0625\n",
      "Epoch 00034: val_loss improved from 0.06221 to 0.06219, saving model to model.weights.best.hdf5\n",
      "469/469 [==============================] - 89s 190ms/step - loss: 0.0625 - val_loss: 0.0622\n",
      "Epoch 35/50\n",
      "469/469 [==============================] - ETA: 0s - loss: 0.0625\n",
      "Epoch 00035: val_loss did not improve from 0.06219\n",
      "469/469 [==============================] - 89s 190ms/step - loss: 0.0625 - val_loss: 0.0622\n",
      "Epoch 36/50\n",
      "469/469 [==============================] - ETA: 0s - loss: 0.0625\n",
      "Epoch 00036: val_loss did not improve from 0.06219\n",
      "469/469 [==============================] - 87s 186ms/step - loss: 0.0625 - val_loss: 0.0622\n",
      "Epoch 37/50\n",
      "469/469 [==============================] - ETA: 0s - loss: 0.0625\n",
      "Epoch 00037: val_loss improved from 0.06219 to 0.06213, saving model to model.weights.best.hdf5\n",
      "469/469 [==============================] - 89s 189ms/step - loss: 0.0625 - val_loss: 0.0621\n",
      "Epoch 38/50\n",
      "469/469 [==============================] - ETA: 0s - loss: 0.0624\n",
      "Epoch 00038: val_loss did not improve from 0.06213\n",
      "469/469 [==============================] - 87s 187ms/step - loss: 0.0624 - val_loss: 0.0621\n",
      "Epoch 39/50\n",
      "469/469 [==============================] - ETA: 0s - loss: 0.0624\n",
      "Epoch 00039: val_loss did not improve from 0.06213\n",
      "469/469 [==============================] - 91s 194ms/step - loss: 0.0624 - val_loss: 0.0622\n",
      "Epoch 40/50\n",
      "469/469 [==============================] - ETA: 0s - loss: 0.0624\n",
      "Epoch 00040: val_loss improved from 0.06213 to 0.06205, saving model to model.weights.best.hdf5\n",
      "469/469 [==============================] - 94s 201ms/step - loss: 0.0624 - val_loss: 0.0621\n",
      "Epoch 41/50\n",
      "469/469 [==============================] - ETA: 0s - loss: 0.0624\n",
      "Epoch 00041: val_loss improved from 0.06205 to 0.06203, saving model to model.weights.best.hdf5\n",
      "469/469 [==============================] - 89s 190ms/step - loss: 0.0624 - val_loss: 0.0620\n",
      "Epoch 42/50\n",
      "469/469 [==============================] - ETA: 0s - loss: 0.0624\n",
      "Epoch 00042: val_loss improved from 0.06203 to 0.06199, saving model to model.weights.best.hdf5\n",
      "469/469 [==============================] - 97s 206ms/step - loss: 0.0624 - val_loss: 0.0620\n",
      "Epoch 43/50\n",
      "469/469 [==============================] - ETA: 0s - loss: 0.0623\n",
      "Epoch 00043: val_loss did not improve from 0.06199\n",
      "469/469 [==============================] - 96s 205ms/step - loss: 0.0623 - val_loss: 0.0620\n",
      "Epoch 44/50\n",
      "469/469 [==============================] - ETA: 0s - loss: 0.0623- ETA: 0s - loss: 0.0\n",
      "Epoch 00044: val_loss improved from 0.06199 to 0.06197, saving model to model.weights.best.hdf5\n",
      "469/469 [==============================] - 97s 206ms/step - loss: 0.0623 - val_loss: 0.0620\n",
      "Epoch 45/50\n",
      "469/469 [==============================] - ETA: 0s - loss: 0.0623\n",
      "Epoch 00045: val_loss improved from 0.06197 to 0.06195, saving model to model.weights.best.hdf5\n",
      "469/469 [==============================] - 97s 206ms/step - loss: 0.0623 - val_loss: 0.0619\n",
      "Epoch 46/50\n",
      "469/469 [==============================] - ETA: 0s - loss: 0.0623- E - ETA: 0s - loss: 0.\n",
      "Epoch 00046: val_loss improved from 0.06195 to 0.06192, saving model to model.weights.best.hdf5\n",
      "469/469 [==============================] - 92s 196ms/step - loss: 0.0623 - val_loss: 0.0619\n",
      "Epoch 47/50\n",
      "469/469 [==============================] - ETA: 0s - loss: 0.0623\n",
      "Epoch 00047: val_loss improved from 0.06192 to 0.06191, saving model to model.weights.best.hdf5\n",
      "469/469 [==============================] - 90s 192ms/step - loss: 0.0623 - val_loss: 0.0619\n",
      "Epoch 48/50\n",
      "469/469 [==============================] - ETA: 0s - loss: 0.0622\n",
      "Epoch 00048: val_loss improved from 0.06191 to 0.06190, saving model to model.weights.best.hdf5\n",
      "469/469 [==============================] - 92s 195ms/step - loss: 0.0622 - val_loss: 0.0619\n",
      "Epoch 49/50\n",
      "469/469 [==============================] - ETA: 0s - loss: 0.0622\n",
      "Epoch 00049: val_loss improved from 0.06190 to 0.06190, saving model to model.weights.best.hdf5\n",
      "469/469 [==============================] - 94s 201ms/step - loss: 0.0622 - val_loss: 0.0619\n",
      "Epoch 50/50\n",
      "469/469 [==============================] - ETA: 0s - loss: 0.0622\n",
      "Epoch 00050: val_loss improved from 0.06190 to 0.06185, saving model to model.weights.best.hdf5\n",
      "469/469 [==============================] - 94s 200ms/step - loss: 0.0622 - val_loss: 0.0619\n"
     ]
    },
    {
     "data": {
      "text/plain": [
       "<tensorflow.python.keras.callbacks.History at 0x1c08625bd60>"
      ]
     },
     "execution_count": 93,
     "metadata": {},
     "output_type": "execute_result"
    }
   ],
   "source": [
    "# Using early stopping will terminate the training process if the validation\n",
    "# loss is not improving for 5 continues epochs\n",
    "early_stopping = EarlyStopping(monitor='val_loss', patience=5)\n",
    "\n",
    "checkpointer = ModelCheckpoint(filepath='model.weights.best.hdf5', verbose=1, \n",
    "                               save_best_only=True)\n",
    "\n",
    "# Train the autoencoder on 50 epochs\n",
    "autoencoder.fit(\n",
    "                x=X_train, \n",
    "                y=X_train,\n",
    "                epochs=50,\n",
    "                batch_size=128,\n",
    "                shuffle=True,\n",
    "                callbacks=[early_stopping, checkpointer],\n",
    "                validation_data=(X_test, X_test)\n",
    "               )"
   ]
  },
  {
   "cell_type": "code",
   "execution_count": 11,
   "id": "765b8bd7",
   "metadata": {},
   "outputs": [],
   "source": [
    "def display_images(array1, array2, n=10):\n",
    "    \"\"\"\n",
    "    Display ten random images from each input array\n",
    "    \"\"\"\n",
    "    \n",
    "    indices = np.random.randint(len(array1), size=n)\n",
    "    images1 = array1[indices, :]\n",
    "    images2 = array2[indices, :]\n",
    "    \n",
    "    plt.figure(figsize=(20, 4))\n",
    "    for i, (image1, image2) in enumerate(zip(images1, images2)):\n",
    "        # display original\n",
    "        ax = plt.subplot(2, n, i + 1)\n",
    "        plt.imshow(image1.reshape(28, 28))\n",
    "        plt.gray()\n",
    "        ax.get_xaxis().set_visible(False)\n",
    "        ax.get_yaxis().set_visible(False)\n",
    "\n",
    "        # display reconstruction\n",
    "        ax = plt.subplot(2, n, i+1+n)\n",
    "        plt.imshow(image2.reshape(28, 28))\n",
    "        plt.gray()\n",
    "        ax.get_xaxis().set_visible(False)\n",
    "        ax.get_yaxis().set_visible(False)\n",
    "    plt.show()"
   ]
  },
  {
   "cell_type": "code",
   "execution_count": 13,
   "id": "ba5131ff",
   "metadata": {},
   "outputs": [
    {
     "data": {
      "image/png": "[encoded data removed]",
      "text/plain": [
       "<Figure size 1440x288 with 20 Axes>"
      ]
     },
     "metadata": {
      "needs_background": "light"
     },
     "output_type": "display_data"
    }
   ],
   "source": [
    "predictions = autoencoder.predict(X_test)\n",
    "display_images(X_test, predictions)"
   ]
  },
  {
   "cell_type": "markdown",
   "id": "512a5bb4",
   "metadata": {},
   "source": [
    "### 4) Add noise to images"
   ]
  },
  {
   "cell_type": "code",
   "execution_count": 2,
   "id": "a9d12121",
   "metadata": {},
   "outputs": [],
   "source": [
    "def add_noise(array, noise_factor=0.1):\n",
    "    \"\"\"\n",
    "    Add random noise to each image in the input array scaled by the noise_factor\n",
    "\n",
    "    Parameters:\n",
    "        array: input array of images\n",
    "        noise_factor(float): noise factor\n",
    "        \n",
    "    Returns:\n",
    "        noisy_array: noisy array\n",
    "    \"\"\"\n",
    "    \n",
    "    noisy_array = array + noise_factor * np.random.normal(\n",
    "        loc=0.0, scale=1.0, size=array.shape\n",
    "    )\n",
    "    \n",
    "    return np.clip(noisy_array, 0.0, 1.0)"
   ]
  },
  {
   "cell_type": "code",
   "execution_count": 14,
   "id": "56d78c64",
   "metadata": {},
   "outputs": [
    {
     "data": {
      "image/png": "[encoded data removed]",
      "text/plain": [
       "<Figure size 1440x288 with 20 Axes>"
      ]
     },
     "metadata": {
      "needs_background": "light"
     },
     "output_type": "display_data"
    }
   ],
   "source": [
    "# Add noise to all of our images\n",
    "noisy_train = add_noise(X_train, 0.1)\n",
    "noisy_test = add_noise(X_test, 0.1)\n",
    "\n",
    "# Display 10 random training samples of original images and images with noise\n",
    "display_images(X_train, noisy_train)"
   ]
  },
  {
   "cell_type": "markdown",
   "id": "3263c7bd",
   "metadata": {},
   "source": [
    "### 5) Train the final CAE and find the images with higher variation"
   ]
  },
  {
   "cell_type": "markdown",
   "id": "9964eeaa",
   "metadata": {},
   "source": [
    "#### 5.1) Train the autoencoder with noisy data\n",
    "This way the autoencoder will learn how to denoise images"
   ]
  },
  {
   "cell_type": "code",
   "execution_count": 116,
   "id": "e4a2262b",
   "metadata": {},
   "outputs": [
    {
     "name": "stdout",
     "output_type": "stream",
     "text": [
      "Epoch 1/10\n",
      "469/469 [==============================] - ETA: 0s - loss: 0.0785\n",
      "Epoch 00001: val_loss improved from inf to 0.07797, saving model to model.weights.best.hf5\n",
      "INFO:tensorflow:Assets written to: model.weights.best.hf5\\assets\n",
      "469/469 [==============================] - 114s 242ms/step - loss: 0.0785 - val_loss: 0.0780\n",
      "Epoch 2/10\n",
      "469/469 [==============================] - ETA: 0s - loss: 0.0783\n",
      "Epoch 00002: val_loss improved from 0.07797 to 0.07778, saving model to model.weights.best.hf5\n",
      "INFO:tensorflow:Assets written to: model.weights.best.hf5\\assets\n",
      "469/469 [==============================] - 113s 241ms/step - loss: 0.0783 - val_loss: 0.0778\n",
      "Epoch 3/10\n",
      "469/469 [==============================] - ETA: 0s - loss: 0.0781\n",
      "Epoch 00003: val_loss improved from 0.07778 to 0.07749, saving model to model.weights.best.hf5\n",
      "INFO:tensorflow:Assets written to: model.weights.best.hf5\\assets\n",
      "469/469 [==============================] - 113s 241ms/step - loss: 0.0781 - val_loss: 0.0775\n",
      "Epoch 4/10\n",
      "469/469 [==============================] - ETA: 0s - loss: 0.0779\n",
      "Epoch 00004: val_loss improved from 0.07749 to 0.07736, saving model to model.weights.best.hf5\n",
      "INFO:tensorflow:Assets written to: model.weights.best.hf5\\assets\n",
      "469/469 [==============================] - 114s 243ms/step - loss: 0.0779 - val_loss: 0.0774\n",
      "Epoch 5/10\n",
      "469/469 [==============================] - ETA: 0s - loss: 0.0778\n",
      "Epoch 00005: val_loss improved from 0.07736 to 0.07721, saving model to model.weights.best.hf5\n",
      "INFO:tensorflow:Assets written to: model.weights.best.hf5\\assets\n",
      "469/469 [==============================] - 114s 243ms/step - loss: 0.0778 - val_loss: 0.0772\n",
      "Epoch 6/10\n",
      "469/469 [==============================] - ETA: 0s - loss: 0.0776\n",
      "Epoch 00006: val_loss did not improve from 0.07721\n",
      "469/469 [==============================] - 112s 239ms/step - loss: 0.0776 - val_loss: 0.0773\n",
      "Epoch 7/10\n",
      "469/469 [==============================] - ETA: 0s - loss: 0.0775\n",
      "Epoch 00007: val_loss improved from 0.07721 to 0.07703, saving model to model.weights.best.hf5\n",
      "INFO:tensorflow:Assets written to: model.weights.best.hf5\\assets\n",
      "469/469 [==============================] - 116s 247ms/step - loss: 0.0775 - val_loss: 0.0770\n",
      "Epoch 8/10\n",
      "469/469 [==============================] - ETA: 0s - loss: 0.0774\n",
      "Epoch 00008: val_loss improved from 0.07703 to 0.07692, saving model to model.weights.best.hf5\n",
      "INFO:tensorflow:Assets written to: model.weights.best.hf5\\assets\n",
      "469/469 [==============================] - 121s 258ms/step - loss: 0.0774 - val_loss: 0.0769\n",
      "Epoch 9/10\n",
      "469/469 [==============================] - ETA: 0s - loss: 0.0773\n",
      "Epoch 00009: val_loss improved from 0.07692 to 0.07689, saving model to model.weights.best.hf5\n",
      "INFO:tensorflow:Assets written to: model.weights.best.hf5\\assets\n",
      "469/469 [==============================] - 116s 247ms/step - loss: 0.0773 - val_loss: 0.0769\n",
      "Epoch 10/10\n",
      "469/469 [==============================] - ETA: 0s - loss: 0.0772\n",
      "Epoch 00010: val_loss did not improve from 0.07689\n",
      "469/469 [==============================] - 112s 240ms/step - loss: 0.0772 - val_loss: 0.0769\n"
     ]
    },
    {
     "data": {
      "text/plain": [
       "<tensorflow.python.keras.callbacks.History at 0x1c0828f1940>"
      ]
     },
     "execution_count": 116,
     "metadata": {},
     "output_type": "execute_result"
    }
   ],
   "source": [
    "# Using early stopping will terminate the training process if the validation\n",
    "# loss is not improving for 5 continues epochs\n",
    "early_stopping = EarlyStopping(monitor='val_loss', patience=5, )\n",
    "\n",
    "checkpointer = ModelCheckpoint(filepath='model.weights.best.hf5', verbose=1, \n",
    "                               save_best_only=True)\n",
    "\n",
    "# Train the autoencoder on 10 epochs\n",
    "autoencoder.fit(\n",
    "                x=noisy_train, \n",
    "                y=X_train,\n",
    "                epochs=10,\n",
    "                batch_size=128,\n",
    "                shuffle=True,\n",
    "                callbacks=[early_stopping, checkpointer],\n",
    "                validation_data=(noisy_test, X_test)\n",
    "               )"
   ]
  },
  {
   "cell_type": "code",
   "execution_count": 15,
   "id": "9810813a",
   "metadata": {},
   "outputs": [
    {
     "data": {
      "image/png": "[encoded data removed]",
      "text/plain": [
       "<Figure size 1440x288 with 20 Axes>"
      ]
     },
     "metadata": {
      "needs_background": "light"
     },
     "output_type": "display_data"
    }
   ],
   "source": [
    "autoencoder = load_model('model.weights.best.hdf5')\n",
    "predictions = autoencoder.predict(noisy_test)\n",
    "display_images(noisy_test, predictions)"
   ]
  },
  {
   "cell_type": "markdown",
   "id": "56db7165",
   "metadata": {},
   "source": [
    "## 5) Show images with the highest variation\n",
    "First i am going to take the Histogram of each image and compare it with the predicted image using Euclidean distance (L2 norm)."
   ]
  },
  {
   "cell_type": "markdown",
   "id": "bf24e260",
   "metadata": {},
   "source": [
    "#### Compute the histograms "
   ]
  },
  {
   "cell_type": "code",
   "execution_count": 16,
   "id": "95b6d4b1",
   "metadata": {},
   "outputs": [],
   "source": [
    "X_test_hist = [np.histogram(img) for img in X_test]"
   ]
  },
  {
   "cell_type": "code",
   "execution_count": 17,
   "id": "086874a5",
   "metadata": {},
   "outputs": [],
   "source": [
    "predictions_hist = [np.histogram(img) for img in predictions]"
   ]
  },
  {
   "cell_type": "markdown",
   "id": "bc493c2c",
   "metadata": {},
   "source": [
    "#### Calculate the L2 distance between noisy and predicted images"
   ]
  },
  {
   "cell_type": "code",
   "execution_count": 18,
   "id": "cc5b65a3",
   "metadata": {},
   "outputs": [],
   "source": [
    "distances = [np.linalg.norm(a[0]-b[0]) for a,b in zip(X_test_hist, predictions_hist)]"
   ]
  },
  {
   "cell_type": "markdown",
   "id": "1793848d",
   "metadata": {},
   "source": [
    "#### Find the images with the lowest and highest variation"
   ]
  },
  {
   "cell_type": "code",
   "execution_count": 19,
   "id": "a27cdf8b",
   "metadata": {},
   "outputs": [],
   "source": [
    "distances = np.array(distances)\n",
    "min_distance_indices = distances.argsort()[:10]\n",
    "max_distance_indices = distances.argsort()[-10:]"
   ]
  },
  {
   "cell_type": "markdown",
   "id": "5ab382f3",
   "metadata": {},
   "source": [
    "### Images with the lowest variation"
   ]
  },
  {
   "cell_type": "code",
   "execution_count": 20,
   "id": "5ec2a374",
   "metadata": {},
   "outputs": [
    {
     "data": {
      "image/png": "[encoded data removed]",
      "text/plain": [
       "<Figure size 1440x288 with 20 Axes>"
      ]
     },
     "metadata": {
      "needs_background": "light"
     },
     "output_type": "display_data"
    }
   ],
   "source": [
    "plt.figure(figsize=(20, 4))\n",
    "\n",
    "for i, idx in enumerate(min_distance_indices):\n",
    "    # display original\n",
    "    ax = plt.subplot(2, 10, i + 1)\n",
    "    plt.imshow(X_test[idx,:].reshape(28, 28))\n",
    "    ax.set_title(\"Distance: {}\".format(str(round(distances[idx], 2))))\n",
    "    plt.gray()\n",
    "    ax.get_xaxis().set_visible(False)\n",
    "    ax.get_yaxis().set_visible(False)\n",
    "\n",
    "    # display reconstruction\n",
    "    ax = plt.subplot(2, 10, i+1+10)\n",
    "    plt.imshow(predictions[idx,:].reshape(28, 28))\n",
    "    plt.gray()\n",
    "    ax.get_xaxis().set_visible(False)\n",
    "    ax.get_yaxis().set_visible(False)\n",
    "    \n",
    "plt.show()"
   ]
  },
  {
   "cell_type": "markdown",
   "id": "0b156a3c",
   "metadata": {},
   "source": [
    "### Images with the highest variation"
   ]
  },
  {
   "cell_type": "code",
   "execution_count": 21,
   "id": "49afde09",
   "metadata": {},
   "outputs": [
    {
     "data": {
      "image/png": "[encoded data removed]",
      "text/plain": [
       "<Figure size 1440x288 with 20 Axes>"
      ]
     },
     "metadata": {
      "needs_background": "light"
     },
     "output_type": "display_data"
    }
   ],
   "source": [
    "plt.figure(figsize=(20, 4))\n",
    "\n",
    "for i, idx in enumerate(max_distance_indices):\n",
    "    # display original\n",
    "    ax = plt.subplot(2, 10, i + 1)\n",
    "    plt.imshow(X_test[idx,:].reshape(28, 28))\n",
    "    ax.set_title(\"Distance: {}\".format(str(round(distances[idx], 2))))\n",
    "    plt.gray()\n",
    "    ax.get_xaxis().set_visible(False)\n",
    "    ax.get_yaxis().set_visible(False)\n",
    "\n",
    "    # display reconstruction\n",
    "    ax = plt.subplot(2, 10, i+1+10)\n",
    "    plt.imshow(predictions[idx,:].reshape(28, 28))\n",
    "    plt.gray()\n",
    "    ax.get_xaxis().set_visible(False)\n",
    "    ax.get_yaxis().set_visible(False)\n",
    "    \n",
    "plt.show()"
   ]
  },
  {
   "cell_type": "markdown",
   "id": "7faa9283",
   "metadata": {},
   "source": [
    "#### Calculate variation using Siamese networks"
   ]
  },
  {
   "cell_type": "markdown",
   "id": "5d30ac90",
   "metadata": {},
   "source": [
    "I am going to use Siamese Neural Networks to find the images with the highest variation.\n",
    "\n",
    "For this task I am going to use an example from Keras documentation, so I don't have to implement from scratch all the pipeline for the Siamese Network. \n",
    "\n",
    "In the next notebook I have just added my code at the end of it, loading the model that I have implemented here and compare the predictions from the CAE. \n",
    "\n",
    "Siamese neural networks are extracting high level feature from pair of images into embedings. Then they compute the variation using the Contrastive Loss function and return a probability. The higher the probability the lowest the variation between the two images.\n"
   ]
  },
  {
   "cell_type": "markdown",
   "id": "5321e38a",
   "metadata": {},
   "source": [
    "## Future Work - Perform experiments on:\n",
    "\n",
    "### Network architecture \n",
    "- Number of hidden layers\n",
    "- Neurons in each layer\n",
    "- Activation functions\n",
    "\n",
    "### Learning and optimization\n",
    "- Learning rate and decay schedule\n",
    "- Mini-batch size\n",
    "- Optimization algorithms\n",
    "- Number of epochs \n",
    "- Early Stopping\n",
    "\n",
    "### Regularization techniques to avoid overfitting\n",
    "- L2 regularization\n",
    "- Data augmentation\n",
    "\n",
    "### Tuning hyperparameters"
   ]
  },
  {
   "cell_type": "markdown",
   "id": "213931df",
   "metadata": {},
   "source": [
    "*Note: I have commented two architectures (one for CAE and one for CNN) that probably are going to give better accuracy because they have more training parameters and more layers.*"
   ]
  },
  {
   "cell_type": "code",
   "execution_count": null,
   "id": "65666a95",
   "metadata": {},
   "outputs": [],
   "source": []
  }
 ],
 "metadata": {
  "kernelspec": {
   "display_name": "Python 3",
   "language": "python",
   "name": "python3"
  },
  "language_info": {
   "codemirror_mode": {
    "name": "ipython",
    "version": 3
   },
   "file_extension": ".py",
   "mimetype": "text/x-python",
   "name": "python",
   "nbconvert_exporter": "python",
   "pygments_lexer": "ipython3",
   "version": "3.8.8"
  }
 },
 "nbformat": 4,
 "nbformat_minor": 5
}
